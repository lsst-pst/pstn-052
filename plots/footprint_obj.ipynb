{
 "cells": [
  {
   "cell_type": "code",
   "execution_count": 8,
   "id": "bfb325a8",
   "metadata": {},
   "outputs": [],
   "source": [
    "import numpy as np\n",
    "import matplotlib.pylab as plt\n",
    "%matplotlib inline\n",
    "from rolling_nm import make_rolling_footprints\n",
    "from rubin_sim.scheduler.modelObservatory import Model_observatory\n",
    "from rubin_sim.scheduler.utils import standard_goals, Footprint"
   ]
  },
  {
   "cell_type": "code",
   "execution_count": 4,
   "id": "a010b0f7",
   "metadata": {},
   "outputs": [],
   "source": [
    "\n",
    "nside = 32\n",
    "observatory = Model_observatory(nside=nside)\n",
    "conditions = observatory.return_conditions()\n",
    "sun_ra_0 = conditions.sunRA  # radians\n",
    "scale = 0.9\n",
    "nslice = 2\n",
    "footprints_rolling = make_rolling_footprints(mjd_start=conditions.mjd_start,\n",
    "                                         sun_RA_start=conditions.sun_RA_start, nslice=nslice, scale=scale,\n",
    "                                         nside=nside)"
   ]
  },
  {
   "cell_type": "code",
   "execution_count": null,
   "id": "6f98d31d",
   "metadata": {},
   "outputs": [],
   "source": []
  },
  {
   "cell_type": "code",
   "execution_count": 9,
   "id": "253b9cac",
   "metadata": {},
   "outputs": [],
   "source": [
    "observatory = Model_observatory(nside=nside)\n",
    "footprints_hp = standard_goals(nside=nside)\n",
    "conditions = observatory.return_conditions()\n",
    "footprints = Footprint(conditions.mjd_start, sun_RA_start=conditions.sun_RA_start, nside=nside)\n",
    "for i, key in enumerate(footprints_hp):\n",
    "    footprints.footprints[i, :] = footprints_hp[key]"
   ]
  },
  {
   "cell_type": "code",
   "execution_count": null,
   "id": "2ac7f3e7",
   "metadata": {},
   "outputs": [],
   "source": []
  },
  {
   "cell_type": "code",
   "execution_count": null,
   "id": "9962de26",
   "metadata": {},
   "outputs": [],
   "source": []
  }
 ],
 "metadata": {
  "kernelspec": {
   "display_name": "Python 3",
   "language": "python",
   "name": "python3"
  },
  "language_info": {
   "codemirror_mode": {
    "name": "ipython",
    "version": 3
   },
   "file_extension": ".py",
   "mimetype": "text/x-python",
   "name": "python",
   "nbconvert_exporter": "python",
   "pygments_lexer": "ipython3",
   "version": "3.9.2"
  }
 },
 "nbformat": 4,
 "nbformat_minor": 5
}
